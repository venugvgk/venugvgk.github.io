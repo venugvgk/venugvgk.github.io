{
  "cells": [
    {
      "cell_type": "markdown",
      "metadata": {},
      "source": [
        "---\n",
        "title: \"using jupyter notebook\"  \n",
        "date: 2024-12-24\n",
        "jupyter_client: 5.4.0\n",
        "page-layout: article\n",
        "author: Venu GVGK\n",
        "categories:\n",
        "    - quarto\n",
        "---"
      ]
    },
    {
      "cell_type": "markdown",
      "metadata": {},
      "source": [
        "to display jupyter notebooks in the listing page,\n",
        "\n",
        "- \"/*/*.ipynb\"\n"
      ]
    }
  ],
  "metadata": {
    "kernelspec": {
      "display_name": "Python 3",
      "language": "python",
      "name": "python3"
    },
    "language_info": {
      "codemirror_mode": {
        "name": "ipython",
        "version": 3
      },
      "file_extension": ".py",
      "mimetype": "text/x-python",
      "name": "python",
      "nbconvert_exporter": "python",
      "pygments_lexer": "ipython3",
      "version": "3.12.0"
    }
  },
  "nbformat": 4,
  "nbformat_minor": 4
}
