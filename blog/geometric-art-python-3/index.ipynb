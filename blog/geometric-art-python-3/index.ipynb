{
 "cells": [
  {
   "cell_type": "markdown",
   "metadata": {},
   "source": [
    "---\n",
    "title: Even more Mandalas, high school math and Python\n",
    "categories:\n",
    "    - python\n",
    "    - mathematics\n",
    "date: 2024-12-29\n",
    "Execute:\n",
    "    freeze: auto\n",
    "code-fold: true\n",
    "---"
   ]
  },
  {
   "cell_type": "markdown",
   "metadata": {},
   "source": [
    "# central flower\n",
    "We start by creating a central flower. \n",
    "first the central flower made up of 4 sided figures. The relative size of the flower in the total radius of the mandala, and the number of petals can be controlled.The figure below is made out of 12 kites with a shared vertex at the center of the \"circle\". "
   ]
  },
  {
   "cell_type": "code",
   "execution_count": 1,
   "metadata": {},
   "outputs": [
    {
     "data": {
      "image/png": "[encoded data removed]",
      "text/plain": [
       "<Figure size 640x480 with 1 Axes>"
      ]
     },
     "metadata": {},
     "output_type": "display_data"
    }
   ],
   "source": [
    "import numpy as np\n",
    "import matplotlib.pyplot as plt\n",
    "from matplotlib.patches import Polygon\n",
    "import random\n",
    "import math\n",
    "\n",
    "def random_hex_color():\n",
    "    return \"#{:06x}\".format(random.randint(0, 0xFFFFFF))\n",
    "figure, axes = plt.subplots()\n",
    "\n",
    "r = 10 #radius of outer circle\n",
    "\n",
    "def central_flower(size,petals): \n",
    "    #size is the size of the flower as a portion of the total picture\n",
    "    # petals is number of petals                           \n",
    "    r_flower = r*size\n",
    "    theta = np.linspace(0,2*np.pi,petals,endpoint=False)\n",
    "    for t in theta:\n",
    "        x1 = r_flower*np.cos(t)\n",
    "        y1 = r_flower*np.sin(t)\n",
    "        r_petal = r*size*0.3\n",
    "        x2 = r_petal*np.cos(t+2*np.pi/petals)\n",
    "        y2 = r_petal*np.sin(t+2*np.pi/petals)\n",
    "        x3 = r_petal*np.cos(t-2*np.pi/petals)\n",
    "        y3 = r_petal*np.sin(t-2*np.pi/petals)\n",
    "        vertices = [(x1,y1),(x2,y2),(0,0),(x3,y3)]\n",
    "        polygon = Polygon (vertices,facecolor=random_hex_color(),edgecolor='black', alpha=0.2)\n",
    "        axes.add_artist(polygon)\n",
    "\n",
    "central_flower(0.3,12)\n",
    "        \n",
    "#set the figure area square\n",
    "axes.set_aspect(1)\n",
    "\n",
    "#set axes limits \n",
    "axes.set_xlim(-r, r)\n",
    "axes.set_ylim(-r, r)\n",
    "\n",
    "# Hide axes labels\n",
    "axes.set_xticks([])\n",
    "axes.set_yticks([])\n",
    "\n",
    "# Remove the border\n",
    "for spine in axes.spines.values():\n",
    "    spine.set_visible(False)\n",
    "\n",
    "plt.show()"
   ]
  },
  {
   "cell_type": "markdown",
   "metadata": {},
   "source": [
    "Rest follows!"
   ]
  }
 ],
 "metadata": {
  "kernelspec": {
   "display_name": "Python 3",
   "language": "python",
   "name": "python3"
  },
  "language_info": {
   "codemirror_mode": {
    "name": "ipython",
    "version": 3
   },
   "file_extension": ".py",
   "mimetype": "text/x-python",
   "name": "python",
   "nbconvert_exporter": "python",
   "pygments_lexer": "ipython3",
   "version": "3.12.0"
  }
 },
 "nbformat": 4,
 "nbformat_minor": 2
}
